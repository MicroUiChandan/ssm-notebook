{
 "cells": [
  {
   "cell_type": "markdown",
   "id": "5d45a8a7",
   "metadata": {},
   "source": [
    "This Query is created by user whiteklay"
   ]
  },
  {
   "cell_type": "code",
   "execution_count": 2,
   "id": "5f8a85c6",
   "metadata": {},
   "outputs": [],
   "source": [
    "%%hive_spark\n",
    "WITH customers_processed as (\n",
    "    SELECT customer_id, \n",
    "           CONCAT(first_name, ' ', last_name) as Name, \n",
    "           age, \n",
    "           gender\n",
    "    FROM customers\n",
    "),\n",
    "output_table as (\n",
    "    SELECT c.customer_id as Customer_ID, \n",
    "           c.Name, \n",
    "           c.age as Age, \n",
    "           c.gender as Gender, \n",
    "           a.account_id as Account_ID, \n",
    "           a.account_type as Account_Type\n",
    "    FROM customers_processed c\n",
    "    LEFT JOIN accounts a ON c.customer_id = a.customer_id\n",
    ")\n",
    "SELECT *\n",
    "FROM output_table;"
   ]
  }
 ],
 "metadata": {},
 "nbformat": 4,
 "nbformat_minor": 5
}
