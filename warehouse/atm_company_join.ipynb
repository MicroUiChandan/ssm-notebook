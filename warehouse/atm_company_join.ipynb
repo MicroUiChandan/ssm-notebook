{
 "cells": [
  {
   "cell_type": "markdown",
   "id": "685df554",
   "metadata": {},
   "source": [
    "This Query is created by user whiteklay"
   ]
  },
  {
   "cell_type": "code",
   "execution_count": 2,
   "id": "9ff4ef24",
   "metadata": {},
   "outputs": [],
   "source": [
    "%%hive_spark\n",
    "WITH atm_data AS (\n",
    "    SELECT company_code, CAST(txn_amount AS FLOAT) AS txn_amount, \n",
    "           value_date, credit_acct_no, debit_acct_no, name_address\n",
    "    FROM atm_history_data\n",
    ")\n",
    "SELECT atm_data.company_code, atm_data.txn_amount, atm_data.value_date, \n",
    "       atm_data.credit_acct_no, atm_data.debit_acct_no, \n",
    "       v_f_company.name_address, v_f_company.l_b2_rating_agy, \n",
    "       v_f_company.mnemonic, v_f_company.stat_rep_name AS mgmt_rep_area\n",
    "FROM atm_data\n",
    "INNER JOIN v_f_company ON atm_data.company_code = v_f_company.company_code;"
   ]
  }
 ],
 "metadata": {},
 "nbformat": 4,
 "nbformat_minor": 5
}
