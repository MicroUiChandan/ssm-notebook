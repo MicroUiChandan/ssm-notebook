{
 "cells": [
  {
   "cell_type": "markdown",
   "id": "0ab65a72",
   "metadata": {},
   "source": [
    "This Query is created by user whiteklay"
   ]
  },
  {
   "cell_type": "code",
   "execution_count": 2,
   "id": "1cedad53",
   "metadata": {},
   "outputs": [],
   "source": [
    "%%hive_spark\n",
    "WITH customers_cte AS (\n",
    "    SELECT customer_id, \n",
    "           first_name || ' ' || last_name AS Name, \n",
    "           age, \n",
    "           gender\n",
    "    FROM customers\n",
    "),\n",
    "accounts_cte AS (\n",
    "    SELECT account_id, \n",
    "           account_type\n",
    "    FROM accounts\n",
    ")\n",
    "\n",
    "SELECT customers_cte.customer_id AS Customer_ID, \n",
    "       customers_cte.Name AS Name, \n",
    "       customers_cte.age AS Age, \n",
    "       customers_cte.gender AS Gender, \n",
    "       accounts_cte.account_id AS Account_ID, \n",
    "       accounts_cte.account_type AS Account_Type\n",
    "FROM customers_cte\n",
    "LEFT JOIN accounts_cte ON customers_cte.customer_id = accounts_cte.customer_id;"
   ]
  }
 ],
 "metadata": {},
 "nbformat": 4,
 "nbformat_minor": 5
}
