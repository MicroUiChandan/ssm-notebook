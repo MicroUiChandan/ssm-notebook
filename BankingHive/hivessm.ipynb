{
 "cells": [
  {
   "cell_type": "markdown",
   "id": "2e7e4d73",
   "metadata": {},
   "source": [
    "This Query is created by user superadmin"
   ]
  },
  {
   "cell_type": "code",
   "execution_count": 2,
   "id": "cad5c326",
   "metadata": {},
   "outputs": [],
   "source": [
    "%%hive_spark\n",
    "WITH Customers_CTE AS(\n",
    "    SELECT Customer_ID, Name, Age, Gender\n",
    "    FROM customers\n",
    "),\n",
    "Accounts_CTE AS(\n",
    "    SELECT A.Customer_ID, Account_ID, Account_Type\n",
    "    FROM accounts A\n",
    "    LEFT JOIN Customers_CTE C ON A.Customer_ID = C.Customer_ID\n",
    ")\n",
    "\n",
    "SELECT C.Customer_ID, C.Name, C.Age, C.Gender, A.Account_ID, A.Account_Type\n",
    "FROM Customers_CTE C\n",
    "LEFT JOIN Accounts_CTE A ON C.Customer_ID = A.Customer_ID;"
   ]
  }
 ],
 "metadata": {},
 "nbformat": 4,
 "nbformat_minor": 5
}
