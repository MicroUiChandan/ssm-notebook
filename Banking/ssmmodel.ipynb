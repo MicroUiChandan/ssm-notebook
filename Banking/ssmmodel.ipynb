{
 "cells": [
  {
   "cell_type": "markdown",
   "id": "2a0f9705",
   "metadata": {},
   "source": [
    "This Query is created by user whiteklay"
   ]
  },
  {
   "cell_type": "code",
   "execution_count": 2,
   "id": "32633572",
   "metadata": {},
   "outputs": [],
   "source": [
    "%% sql\n",
    "```\n",
    "Pre - Processing step\n",
    " -- \n",
    "\n",
    "Business Requirement:\n",
    "SELECT customers.customer_id as Customer_ID, customers.firstname as Name, customers.age as Age, \n",
    "       customers.gender as Gender, accounts.account_id as Account_ID, accounts.account_type as Account_Type \n",
    "FROM customers\n",
    "  LEFT JOIN accounts ON customers.customer_id = accounts.customer_id\n",
    "```"
   ]
  }
 ],
 "metadata": {},
 "nbformat": 4,
 "nbformat_minor": 5
}
