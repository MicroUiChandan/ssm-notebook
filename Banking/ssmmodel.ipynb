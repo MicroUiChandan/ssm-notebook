{
 "cells": [
  {
   "cell_type": "markdown",
   "id": "661f087c",
   "metadata": {},
   "source": [
    "This Query is created by user whiteklay"
   ]
  },
  {
   "cell_type": "code",
   "execution_count": 2,
   "id": "69d6e3c7",
   "metadata": {},
   "outputs": [],
   "source": [
    "%% sql\n",
    "```\n",
    "Pre - Processing step\n",
    " -- \n",
    "\n",
    "WITH customers AS (\n",
    "     SELECT *\n",
    "     FROM customers\n",
    "),\n",
    "accounts AS (\n",
    "     SELECT *\n",
    "     FROM accounts\n",
    ")\n",
    "\n",
    "Business Requirement:\n",
    "SELECT customers.customer_id AS Customer_ID, \n",
    "       customers.firstname AS Name, \n",
    "       customers.age AS Age, \n",
    "       customers.gender AS Gender, \n",
    "       accounts.account_id AS Account_ID, \n",
    "       accounts.account_type AS Account_Type\n",
    "FROM customers\n",
    "LEFT JOIN accounts ON customers.customer_id = accounts.customer_id\n",
    "```"
   ]
  }
 ],
 "metadata": {},
 "nbformat": 4,
 "nbformat_minor": 5
}
